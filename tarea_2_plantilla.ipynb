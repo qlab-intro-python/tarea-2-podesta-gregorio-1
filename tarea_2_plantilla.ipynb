{
 "cells": [
  {
   "cell_type": "markdown",
   "metadata": {},
   "source": [
    "# **Tarea Nº 2**"
   ]
  },
  {
   "cell_type": "code",
   "execution_count": 9,
   "metadata": {},
   "outputs": [],
   "source": [
    "# Califiación: 15"
   ]
  },
  {
   "cell_type": "markdown",
   "metadata": {},
   "source": [
    "Curso:          Fundamentos de Programación en Python para Macroeconomía y Finanzas     \n",
    "Profesor:       Victor Fuentes Campos     "
   ]
  },
  {
   "cell_type": "markdown",
   "metadata": {},
   "source": [
    "- Fecha y hora de entrega: Sábado 6 de enero, 11:59pm\n",
    "- Agregue los nombres de las personas con las que discutió esta tarea: Mateo Podestá y Marco Gregorio\n",
    "- Envíe su tarea haciendo el `push` de su código a su repo en GitHub Classroom: "
   ]
  },
  {
   "cell_type": "markdown",
   "metadata": {},
   "source": [
    "## Filtering rows"
   ]
  },
  {
   "cell_type": "markdown",
   "metadata": {},
   "source": [
    "1. Import the `flights.csv` dataset. Find all flights that:\n",
    "\n",
    "    a. Had an arrival delay of three or more hours\n",
    "\n",
    "    b. Flew to Houston (IAH or HOU)\n",
    "\n",
    "    c. Were operated by United, American, or Southwest\n",
    "\n",
    "    d. Departed in spring (March, April, and June)\n",
    "\n",
    "    e. Arrived more than two hours late, but didn’t leave late\n",
    "    \n",
    "    f. Were delayed by at least an hour, but made up over 30 minutes in flight \n",
    "    \n",
    "    g. Departed between midnight and 5am (inclusive)"
   ]
  },
  {
   "cell_type": "code",
   "execution_count": 3,
   "metadata": {},
   "outputs": [],
   "source": [
    "import pandas as pd\n",
    "import numpy as np"
   ]
  },
  {
   "cell_type": "code",
   "execution_count": 4,
   "metadata": {},
   "outputs": [
    {
     "data": {
      "text/html": [
       "<div>\n",
       "<style scoped>\n",
       "    .dataframe tbody tr th:only-of-type {\n",
       "        vertical-align: middle;\n",
       "    }\n",
       "\n",
       "    .dataframe tbody tr th {\n",
       "        vertical-align: top;\n",
       "    }\n",
       "\n",
       "    .dataframe thead th {\n",
       "        text-align: right;\n",
       "    }\n",
       "</style>\n",
       "<table border=\"1\" class=\"dataframe\">\n",
       "  <thead>\n",
       "    <tr style=\"text-align: right;\">\n",
       "      <th></th>\n",
       "      <th>Unnamed: 0</th>\n",
       "      <th>year</th>\n",
       "      <th>month</th>\n",
       "      <th>day</th>\n",
       "      <th>dep_time</th>\n",
       "      <th>sched_dep_time</th>\n",
       "      <th>dep_delay</th>\n",
       "      <th>arr_time</th>\n",
       "      <th>sched_arr_time</th>\n",
       "      <th>arr_delay</th>\n",
       "      <th>carrier</th>\n",
       "      <th>flight</th>\n",
       "      <th>tailnum</th>\n",
       "      <th>origin</th>\n",
       "      <th>dest</th>\n",
       "      <th>air_time</th>\n",
       "      <th>distance</th>\n",
       "      <th>hour</th>\n",
       "      <th>minute</th>\n",
       "      <th>time_hour</th>\n",
       "    </tr>\n",
       "  </thead>\n",
       "  <tbody>\n",
       "    <tr>\n",
       "      <th>0</th>\n",
       "      <td>1</td>\n",
       "      <td>2013</td>\n",
       "      <td>1</td>\n",
       "      <td>1</td>\n",
       "      <td>517.0</td>\n",
       "      <td>515</td>\n",
       "      <td>2.0</td>\n",
       "      <td>830.0</td>\n",
       "      <td>819</td>\n",
       "      <td>11.0</td>\n",
       "      <td>UA</td>\n",
       "      <td>1545</td>\n",
       "      <td>N14228</td>\n",
       "      <td>EWR</td>\n",
       "      <td>IAH</td>\n",
       "      <td>227.0</td>\n",
       "      <td>1400</td>\n",
       "      <td>5</td>\n",
       "      <td>15</td>\n",
       "      <td>2013-01-01 05:00:00</td>\n",
       "    </tr>\n",
       "    <tr>\n",
       "      <th>1</th>\n",
       "      <td>2</td>\n",
       "      <td>2013</td>\n",
       "      <td>1</td>\n",
       "      <td>1</td>\n",
       "      <td>533.0</td>\n",
       "      <td>529</td>\n",
       "      <td>4.0</td>\n",
       "      <td>850.0</td>\n",
       "      <td>830</td>\n",
       "      <td>20.0</td>\n",
       "      <td>UA</td>\n",
       "      <td>1714</td>\n",
       "      <td>N24211</td>\n",
       "      <td>LGA</td>\n",
       "      <td>IAH</td>\n",
       "      <td>227.0</td>\n",
       "      <td>1416</td>\n",
       "      <td>5</td>\n",
       "      <td>29</td>\n",
       "      <td>2013-01-01 05:00:00</td>\n",
       "    </tr>\n",
       "    <tr>\n",
       "      <th>2</th>\n",
       "      <td>3</td>\n",
       "      <td>2013</td>\n",
       "      <td>1</td>\n",
       "      <td>1</td>\n",
       "      <td>542.0</td>\n",
       "      <td>540</td>\n",
       "      <td>2.0</td>\n",
       "      <td>923.0</td>\n",
       "      <td>850</td>\n",
       "      <td>33.0</td>\n",
       "      <td>AA</td>\n",
       "      <td>1141</td>\n",
       "      <td>N619AA</td>\n",
       "      <td>JFK</td>\n",
       "      <td>MIA</td>\n",
       "      <td>160.0</td>\n",
       "      <td>1089</td>\n",
       "      <td>5</td>\n",
       "      <td>40</td>\n",
       "      <td>2013-01-01 05:00:00</td>\n",
       "    </tr>\n",
       "    <tr>\n",
       "      <th>3</th>\n",
       "      <td>4</td>\n",
       "      <td>2013</td>\n",
       "      <td>1</td>\n",
       "      <td>1</td>\n",
       "      <td>544.0</td>\n",
       "      <td>545</td>\n",
       "      <td>-1.0</td>\n",
       "      <td>1004.0</td>\n",
       "      <td>1022</td>\n",
       "      <td>-18.0</td>\n",
       "      <td>B6</td>\n",
       "      <td>725</td>\n",
       "      <td>N804JB</td>\n",
       "      <td>JFK</td>\n",
       "      <td>BQN</td>\n",
       "      <td>183.0</td>\n",
       "      <td>1576</td>\n",
       "      <td>5</td>\n",
       "      <td>45</td>\n",
       "      <td>2013-01-01 05:00:00</td>\n",
       "    </tr>\n",
       "    <tr>\n",
       "      <th>4</th>\n",
       "      <td>5</td>\n",
       "      <td>2013</td>\n",
       "      <td>1</td>\n",
       "      <td>1</td>\n",
       "      <td>554.0</td>\n",
       "      <td>600</td>\n",
       "      <td>-6.0</td>\n",
       "      <td>812.0</td>\n",
       "      <td>837</td>\n",
       "      <td>-25.0</td>\n",
       "      <td>DL</td>\n",
       "      <td>461</td>\n",
       "      <td>N668DN</td>\n",
       "      <td>LGA</td>\n",
       "      <td>ATL</td>\n",
       "      <td>116.0</td>\n",
       "      <td>762</td>\n",
       "      <td>6</td>\n",
       "      <td>0</td>\n",
       "      <td>2013-01-01 06:00:00</td>\n",
       "    </tr>\n",
       "  </tbody>\n",
       "</table>\n",
       "</div>"
      ],
      "text/plain": [
       "   Unnamed: 0  year  month  day  dep_time  sched_dep_time  dep_delay  \\\n",
       "0           1  2013      1    1     517.0             515        2.0   \n",
       "1           2  2013      1    1     533.0             529        4.0   \n",
       "2           3  2013      1    1     542.0             540        2.0   \n",
       "3           4  2013      1    1     544.0             545       -1.0   \n",
       "4           5  2013      1    1     554.0             600       -6.0   \n",
       "\n",
       "   arr_time  sched_arr_time  arr_delay carrier  flight tailnum origin dest  \\\n",
       "0     830.0             819       11.0      UA    1545  N14228    EWR  IAH   \n",
       "1     850.0             830       20.0      UA    1714  N24211    LGA  IAH   \n",
       "2     923.0             850       33.0      AA    1141  N619AA    JFK  MIA   \n",
       "3    1004.0            1022      -18.0      B6     725  N804JB    JFK  BQN   \n",
       "4     812.0             837      -25.0      DL     461  N668DN    LGA  ATL   \n",
       "\n",
       "   air_time  distance  hour  minute            time_hour  \n",
       "0     227.0      1400     5      15  2013-01-01 05:00:00  \n",
       "1     227.0      1416     5      29  2013-01-01 05:00:00  \n",
       "2     160.0      1089     5      40  2013-01-01 05:00:00  \n",
       "3     183.0      1576     5      45  2013-01-01 05:00:00  \n",
       "4     116.0       762     6       0  2013-01-01 06:00:00  "
      ]
     },
     "execution_count": 4,
     "metadata": {},
     "output_type": "execute_result"
    }
   ],
   "source": [
    "# Solution\n",
    "df = pd.read_csv(\"flights.csv\")\n",
    "df.head()"
   ]
  },
  {
   "cell_type": "markdown",
   "metadata": {},
   "source": []
  },
  {
   "cell_type": "code",
   "execution_count": 3,
   "metadata": {},
   "outputs": [
    {
     "data": {
      "text/plain": [
       "Index(['Unnamed: 0', 'year', 'month', 'day', 'dep_time', 'sched_dep_time',\n",
       "       'dep_delay', 'arr_time', 'sched_arr_time', 'arr_delay', 'carrier',\n",
       "       'flight', 'tailnum', 'origin', 'dest', 'air_time', 'distance', 'hour',\n",
       "       'minute', 'time_hour'],\n",
       "      dtype='object')"
      ]
     },
     "execution_count": 3,
     "metadata": {},
     "output_type": "execute_result"
    }
   ],
   "source": [
    "df.columns"
   ]
  },
  {
   "cell_type": "code",
   "execution_count": 4,
   "metadata": {},
   "outputs": [
    {
     "name": "stdout",
     "output_type": "stream",
     "text": [
      "The number of flights that had an arrival delay of three or more hours is 123096\n",
      "The number of flights that flew to Houston (IAH or HOU) is 9313\n",
      "The number of flights that were operated by United, American, or Southwest is 91394\n",
      "The number of flights that departed in spring (March, April, May and June) is 114203\n",
      "The number of flights that arrived more than two hours late, but didn’t leave late is 34583\n",
      "The number of flights that were delayed by at least an hour, but made up over 30 minutes in flight 132563\n",
      "The number of flights that departed between midnight and 5am (inclusive) 1487\n"
     ]
    }
   ],
   "source": [
    "a = len(df[df.arr_delay>=3].index)\n",
    "print(f\"The number of flights that had an arrival delay of three or more hours is {a}\")\n",
    "\n",
    "b = len(df[df.dest.isin([\"IAH\",\"HOU\"])].index)\n",
    "print(f\"The number of flights that flew to Houston (IAH or HOU) is {b}\")\n",
    "\n",
    "c = len(df[df.carrier.isin([\"UA\",\"AA\",\"SA\"])].index)\n",
    "print(f\"The number of flights that were operated by United, American, or Southwest is {c}\")\n",
    "\n",
    "d = len(df[df.month.between(3,6)].index)\n",
    "print(f\"The number of flights that departed in spring (March, April, May and June) is {d}\")\n",
    "\n",
    "e = len(df[(df.arr_delay>2) & (df.dep_delay<=0)].index)\n",
    "print(f\"The number of flights that arrived more than two hours late, but didn’t leave late is {e}\")\n",
    "\n",
    "f = len(df[(df.arr_delay>=1) & (df.air_time>30)].index)\n",
    "print(f\"The number of flights that were delayed by at least an hour, but made up over 30 minutes in flight {f}\")\n",
    "\n",
    "g = len(df[df.dep_time.between(0,500)].index)\n",
    "print(f\"The number of flights that departed between midnight and 5am (inclusive) {g}\")\n",
    "\n"
   ]
  },
  {
   "cell_type": "code",
   "execution_count": 1,
   "metadata": {},
   "outputs": [],
   "source": [
    "# Grading: -0.5\n",
    "# a. it should be 60*3\n",
    "# g. ==2400 (midnight) and <500 (before 5am)"
   ]
  },
  {
   "cell_type": "markdown",
   "metadata": {},
   "source": [
    "2. How many flights have a missing dep_time? What other variables are missing? What might these rows represent?"
   ]
  },
  {
   "cell_type": "code",
   "execution_count": 5,
   "metadata": {},
   "outputs": [
    {
     "name": "stdout",
     "output_type": "stream",
     "text": [
      "8255 flights have a missing dep_time\n"
     ]
    }
   ],
   "source": [
    "# Solution\n",
    "res_2 = df.dep_time.isna().sum()\n",
    "print(f\"{res_2} flights have a missing dep_time\")"
   ]
  },
  {
   "cell_type": "markdown",
   "metadata": {},
   "source": [
    "3. What happens to observations **with missing values in `arr_time`** when you filter by **`arr_time == 1800`**? Why? (Hint: compare `2000 == 1800`, `1800 == 1800`, and `NA == 1800`)."
   ]
  },
  {
   "cell_type": "code",
   "execution_count": 6,
   "metadata": {},
   "outputs": [
    {
     "data": {
      "text/plain": [
       "0"
      ]
     },
     "execution_count": 6,
     "metadata": {},
     "output_type": "execute_result"
    }
   ],
   "source": [
    "# Solution (i dont understad what 2000 == 1800 is supossed to mean)\n",
    "df[df.arr_time==1800].dep_time.isna().sum()\n",
    "#The are no longer any missing values :)"
   ]
  },
  {
   "cell_type": "code",
   "execution_count": 7,
   "metadata": {},
   "outputs": [
    {
     "data": {
      "text/plain": [
       "407"
      ]
     },
     "execution_count": 7,
     "metadata": {},
     "output_type": "execute_result"
    }
   ],
   "source": [
    "df[df.arr_time==1800].dep_time.count()\n",
    "#There are still observations with arr_time=1800 so we know that the lack of missing values is not due to\n",
    "#a lack of any value"
   ]
  },
  {
   "cell_type": "markdown",
   "metadata": {},
   "source": [
    "4. What does `False & None` evaluate to? Why?"
   ]
  },
  {
   "cell_type": "code",
   "execution_count": 8,
   "metadata": {},
   "outputs": [
    {
     "name": "stdout",
     "output_type": "stream",
     "text": [
      "False indicates the false value of a boolean (0 if it was a dummy), while None indicates that no value is given to the boolean (similar to NaN)\n"
     ]
    }
   ],
   "source": [
    "# Solution\n",
    "print(\"False indicates the false value of a boolean (0 if it was a dummy), while None indicates that no value is given to the boolean (similar to NaN)\")"
   ]
  },
  {
   "cell_type": "markdown",
   "metadata": {},
   "source": [
    "## Select columns"
   ]
  },
  {
   "cell_type": "markdown",
   "metadata": {},
   "source": [
    "5. Brainstorm as many distinct ways as possible to select `dep_time`, `dep_delay`, `arr_time`, and `arr_delay` from `flights`."
   ]
  },
  {
   "cell_type": "code",
   "execution_count": 9,
   "metadata": {},
   "outputs": [
    {
     "data": {
      "text/html": [
       "<div>\n",
       "<style scoped>\n",
       "    .dataframe tbody tr th:only-of-type {\n",
       "        vertical-align: middle;\n",
       "    }\n",
       "\n",
       "    .dataframe tbody tr th {\n",
       "        vertical-align: top;\n",
       "    }\n",
       "\n",
       "    .dataframe thead th {\n",
       "        text-align: right;\n",
       "    }\n",
       "</style>\n",
       "<table border=\"1\" class=\"dataframe\">\n",
       "  <thead>\n",
       "    <tr style=\"text-align: right;\">\n",
       "      <th></th>\n",
       "      <th>dep_time</th>\n",
       "      <th>dep_delay</th>\n",
       "      <th>arr_time</th>\n",
       "      <th>arr_delay</th>\n",
       "    </tr>\n",
       "  </thead>\n",
       "  <tbody>\n",
       "    <tr>\n",
       "      <th>0</th>\n",
       "      <td>517.0</td>\n",
       "      <td>2.0</td>\n",
       "      <td>830.0</td>\n",
       "      <td>11.0</td>\n",
       "    </tr>\n",
       "    <tr>\n",
       "      <th>1</th>\n",
       "      <td>533.0</td>\n",
       "      <td>4.0</td>\n",
       "      <td>850.0</td>\n",
       "      <td>20.0</td>\n",
       "    </tr>\n",
       "    <tr>\n",
       "      <th>2</th>\n",
       "      <td>542.0</td>\n",
       "      <td>2.0</td>\n",
       "      <td>923.0</td>\n",
       "      <td>33.0</td>\n",
       "    </tr>\n",
       "    <tr>\n",
       "      <th>3</th>\n",
       "      <td>544.0</td>\n",
       "      <td>-1.0</td>\n",
       "      <td>1004.0</td>\n",
       "      <td>-18.0</td>\n",
       "    </tr>\n",
       "    <tr>\n",
       "      <th>4</th>\n",
       "      <td>554.0</td>\n",
       "      <td>-6.0</td>\n",
       "      <td>812.0</td>\n",
       "      <td>-25.0</td>\n",
       "    </tr>\n",
       "    <tr>\n",
       "      <th>...</th>\n",
       "      <td>...</td>\n",
       "      <td>...</td>\n",
       "      <td>...</td>\n",
       "      <td>...</td>\n",
       "    </tr>\n",
       "    <tr>\n",
       "      <th>336771</th>\n",
       "      <td>NaN</td>\n",
       "      <td>NaN</td>\n",
       "      <td>NaN</td>\n",
       "      <td>NaN</td>\n",
       "    </tr>\n",
       "    <tr>\n",
       "      <th>336772</th>\n",
       "      <td>NaN</td>\n",
       "      <td>NaN</td>\n",
       "      <td>NaN</td>\n",
       "      <td>NaN</td>\n",
       "    </tr>\n",
       "    <tr>\n",
       "      <th>336773</th>\n",
       "      <td>NaN</td>\n",
       "      <td>NaN</td>\n",
       "      <td>NaN</td>\n",
       "      <td>NaN</td>\n",
       "    </tr>\n",
       "    <tr>\n",
       "      <th>336774</th>\n",
       "      <td>NaN</td>\n",
       "      <td>NaN</td>\n",
       "      <td>NaN</td>\n",
       "      <td>NaN</td>\n",
       "    </tr>\n",
       "    <tr>\n",
       "      <th>336775</th>\n",
       "      <td>NaN</td>\n",
       "      <td>NaN</td>\n",
       "      <td>NaN</td>\n",
       "      <td>NaN</td>\n",
       "    </tr>\n",
       "  </tbody>\n",
       "</table>\n",
       "<p>336776 rows × 4 columns</p>\n",
       "</div>"
      ],
      "text/plain": [
       "        dep_time  dep_delay  arr_time  arr_delay\n",
       "0          517.0        2.0     830.0       11.0\n",
       "1          533.0        4.0     850.0       20.0\n",
       "2          542.0        2.0     923.0       33.0\n",
       "3          544.0       -1.0    1004.0      -18.0\n",
       "4          554.0       -6.0     812.0      -25.0\n",
       "...          ...        ...       ...        ...\n",
       "336771       NaN        NaN       NaN        NaN\n",
       "336772       NaN        NaN       NaN        NaN\n",
       "336773       NaN        NaN       NaN        NaN\n",
       "336774       NaN        NaN       NaN        NaN\n",
       "336775       NaN        NaN       NaN        NaN\n",
       "\n",
       "[336776 rows x 4 columns]"
      ]
     },
     "execution_count": 9,
     "metadata": {},
     "output_type": "execute_result"
    }
   ],
   "source": [
    "# Solution\n",
    "#a: by selecting the columns one by one\n",
    "df[[\"dep_time\",\"dep_delay\",\"arr_time\",\"arr_delay\"]]"
   ]
  },
  {
   "cell_type": "code",
   "execution_count": 10,
   "metadata": {},
   "outputs": [
    {
     "data": {
      "text/html": [
       "<div>\n",
       "<style scoped>\n",
       "    .dataframe tbody tr th:only-of-type {\n",
       "        vertical-align: middle;\n",
       "    }\n",
       "\n",
       "    .dataframe tbody tr th {\n",
       "        vertical-align: top;\n",
       "    }\n",
       "\n",
       "    .dataframe thead th {\n",
       "        text-align: right;\n",
       "    }\n",
       "</style>\n",
       "<table border=\"1\" class=\"dataframe\">\n",
       "  <thead>\n",
       "    <tr style=\"text-align: right;\">\n",
       "      <th></th>\n",
       "      <th>dep_time</th>\n",
       "      <th>dep_delay</th>\n",
       "      <th>arr_time</th>\n",
       "      <th>arr_delay</th>\n",
       "    </tr>\n",
       "  </thead>\n",
       "  <tbody>\n",
       "    <tr>\n",
       "      <th>0</th>\n",
       "      <td>517.0</td>\n",
       "      <td>2.0</td>\n",
       "      <td>830.0</td>\n",
       "      <td>11.0</td>\n",
       "    </tr>\n",
       "    <tr>\n",
       "      <th>1</th>\n",
       "      <td>533.0</td>\n",
       "      <td>4.0</td>\n",
       "      <td>850.0</td>\n",
       "      <td>20.0</td>\n",
       "    </tr>\n",
       "    <tr>\n",
       "      <th>2</th>\n",
       "      <td>542.0</td>\n",
       "      <td>2.0</td>\n",
       "      <td>923.0</td>\n",
       "      <td>33.0</td>\n",
       "    </tr>\n",
       "    <tr>\n",
       "      <th>3</th>\n",
       "      <td>544.0</td>\n",
       "      <td>-1.0</td>\n",
       "      <td>1004.0</td>\n",
       "      <td>-18.0</td>\n",
       "    </tr>\n",
       "    <tr>\n",
       "      <th>4</th>\n",
       "      <td>554.0</td>\n",
       "      <td>-6.0</td>\n",
       "      <td>812.0</td>\n",
       "      <td>-25.0</td>\n",
       "    </tr>\n",
       "    <tr>\n",
       "      <th>...</th>\n",
       "      <td>...</td>\n",
       "      <td>...</td>\n",
       "      <td>...</td>\n",
       "      <td>...</td>\n",
       "    </tr>\n",
       "    <tr>\n",
       "      <th>336771</th>\n",
       "      <td>NaN</td>\n",
       "      <td>NaN</td>\n",
       "      <td>NaN</td>\n",
       "      <td>NaN</td>\n",
       "    </tr>\n",
       "    <tr>\n",
       "      <th>336772</th>\n",
       "      <td>NaN</td>\n",
       "      <td>NaN</td>\n",
       "      <td>NaN</td>\n",
       "      <td>NaN</td>\n",
       "    </tr>\n",
       "    <tr>\n",
       "      <th>336773</th>\n",
       "      <td>NaN</td>\n",
       "      <td>NaN</td>\n",
       "      <td>NaN</td>\n",
       "      <td>NaN</td>\n",
       "    </tr>\n",
       "    <tr>\n",
       "      <th>336774</th>\n",
       "      <td>NaN</td>\n",
       "      <td>NaN</td>\n",
       "      <td>NaN</td>\n",
       "      <td>NaN</td>\n",
       "    </tr>\n",
       "    <tr>\n",
       "      <th>336775</th>\n",
       "      <td>NaN</td>\n",
       "      <td>NaN</td>\n",
       "      <td>NaN</td>\n",
       "      <td>NaN</td>\n",
       "    </tr>\n",
       "  </tbody>\n",
       "</table>\n",
       "<p>336776 rows × 4 columns</p>\n",
       "</div>"
      ],
      "text/plain": [
       "        dep_time  dep_delay  arr_time  arr_delay\n",
       "0          517.0        2.0     830.0       11.0\n",
       "1          533.0        4.0     850.0       20.0\n",
       "2          542.0        2.0     923.0       33.0\n",
       "3          544.0       -1.0    1004.0      -18.0\n",
       "4          554.0       -6.0     812.0      -25.0\n",
       "...          ...        ...       ...        ...\n",
       "336771       NaN        NaN       NaN        NaN\n",
       "336772       NaN        NaN       NaN        NaN\n",
       "336773       NaN        NaN       NaN        NaN\n",
       "336774       NaN        NaN       NaN        NaN\n",
       "336775       NaN        NaN       NaN        NaN\n",
       "\n",
       "[336776 rows x 4 columns]"
      ]
     },
     "execution_count": 10,
     "metadata": {},
     "output_type": "execute_result"
    }
   ],
   "source": [
    "#b: same as a, but using the loc function. This is unnecesarily complicated\n",
    "df.loc[:,[\"dep_time\",\"dep_delay\",\"arr_time\",\"arr_delay\"]]"
   ]
  },
  {
   "cell_type": "code",
   "execution_count": 11,
   "metadata": {},
   "outputs": [
    {
     "data": {
      "text/html": [
       "<div>\n",
       "<style scoped>\n",
       "    .dataframe tbody tr th:only-of-type {\n",
       "        vertical-align: middle;\n",
       "    }\n",
       "\n",
       "    .dataframe tbody tr th {\n",
       "        vertical-align: top;\n",
       "    }\n",
       "\n",
       "    .dataframe thead th {\n",
       "        text-align: right;\n",
       "    }\n",
       "</style>\n",
       "<table border=\"1\" class=\"dataframe\">\n",
       "  <thead>\n",
       "    <tr style=\"text-align: right;\">\n",
       "      <th></th>\n",
       "      <th>dep_time</th>\n",
       "      <th>dep_delay</th>\n",
       "      <th>arr_time</th>\n",
       "      <th>arr_delay</th>\n",
       "    </tr>\n",
       "  </thead>\n",
       "  <tbody>\n",
       "    <tr>\n",
       "      <th>0</th>\n",
       "      <td>517.0</td>\n",
       "      <td>2.0</td>\n",
       "      <td>830.0</td>\n",
       "      <td>11.0</td>\n",
       "    </tr>\n",
       "    <tr>\n",
       "      <th>1</th>\n",
       "      <td>533.0</td>\n",
       "      <td>4.0</td>\n",
       "      <td>850.0</td>\n",
       "      <td>20.0</td>\n",
       "    </tr>\n",
       "    <tr>\n",
       "      <th>2</th>\n",
       "      <td>542.0</td>\n",
       "      <td>2.0</td>\n",
       "      <td>923.0</td>\n",
       "      <td>33.0</td>\n",
       "    </tr>\n",
       "    <tr>\n",
       "      <th>3</th>\n",
       "      <td>544.0</td>\n",
       "      <td>-1.0</td>\n",
       "      <td>1004.0</td>\n",
       "      <td>-18.0</td>\n",
       "    </tr>\n",
       "    <tr>\n",
       "      <th>4</th>\n",
       "      <td>554.0</td>\n",
       "      <td>-6.0</td>\n",
       "      <td>812.0</td>\n",
       "      <td>-25.0</td>\n",
       "    </tr>\n",
       "    <tr>\n",
       "      <th>...</th>\n",
       "      <td>...</td>\n",
       "      <td>...</td>\n",
       "      <td>...</td>\n",
       "      <td>...</td>\n",
       "    </tr>\n",
       "    <tr>\n",
       "      <th>336771</th>\n",
       "      <td>NaN</td>\n",
       "      <td>NaN</td>\n",
       "      <td>NaN</td>\n",
       "      <td>NaN</td>\n",
       "    </tr>\n",
       "    <tr>\n",
       "      <th>336772</th>\n",
       "      <td>NaN</td>\n",
       "      <td>NaN</td>\n",
       "      <td>NaN</td>\n",
       "      <td>NaN</td>\n",
       "    </tr>\n",
       "    <tr>\n",
       "      <th>336773</th>\n",
       "      <td>NaN</td>\n",
       "      <td>NaN</td>\n",
       "      <td>NaN</td>\n",
       "      <td>NaN</td>\n",
       "    </tr>\n",
       "    <tr>\n",
       "      <th>336774</th>\n",
       "      <td>NaN</td>\n",
       "      <td>NaN</td>\n",
       "      <td>NaN</td>\n",
       "      <td>NaN</td>\n",
       "    </tr>\n",
       "    <tr>\n",
       "      <th>336775</th>\n",
       "      <td>NaN</td>\n",
       "      <td>NaN</td>\n",
       "      <td>NaN</td>\n",
       "      <td>NaN</td>\n",
       "    </tr>\n",
       "  </tbody>\n",
       "</table>\n",
       "<p>336776 rows × 4 columns</p>\n",
       "</div>"
      ],
      "text/plain": [
       "        dep_time  dep_delay  arr_time  arr_delay\n",
       "0          517.0        2.0     830.0       11.0\n",
       "1          533.0        4.0     850.0       20.0\n",
       "2          542.0        2.0     923.0       33.0\n",
       "3          544.0       -1.0    1004.0      -18.0\n",
       "4          554.0       -6.0     812.0      -25.0\n",
       "...          ...        ...       ...        ...\n",
       "336771       NaN        NaN       NaN        NaN\n",
       "336772       NaN        NaN       NaN        NaN\n",
       "336773       NaN        NaN       NaN        NaN\n",
       "336774       NaN        NaN       NaN        NaN\n",
       "336775       NaN        NaN       NaN        NaN\n",
       "\n",
       "[336776 rows x 4 columns]"
      ]
     },
     "execution_count": 11,
     "metadata": {},
     "output_type": "execute_result"
    }
   ],
   "source": [
    "#c: same as a, but using filter. Also unncesarily complicated\n",
    "df.filter(items=[\"dep_time\",\"dep_delay\",\"arr_time\",\"arr_delay\"])"
   ]
  },
  {
   "cell_type": "markdown",
   "metadata": {},
   "source": [
    "## Sort columns"
   ]
  },
  {
   "cell_type": "markdown",
   "metadata": {},
   "source": [
    "6. Sort flights to find the most delayed flights by arrival time. Hint: End your code with head(1) to only print that row."
   ]
  },
  {
   "cell_type": "code",
   "execution_count": 12,
   "metadata": {},
   "outputs": [
    {
     "data": {
      "text/html": [
       "<div>\n",
       "<style scoped>\n",
       "    .dataframe tbody tr th:only-of-type {\n",
       "        vertical-align: middle;\n",
       "    }\n",
       "\n",
       "    .dataframe tbody tr th {\n",
       "        vertical-align: top;\n",
       "    }\n",
       "\n",
       "    .dataframe thead th {\n",
       "        text-align: right;\n",
       "    }\n",
       "</style>\n",
       "<table border=\"1\" class=\"dataframe\">\n",
       "  <thead>\n",
       "    <tr style=\"text-align: right;\">\n",
       "      <th></th>\n",
       "      <th>Unnamed: 0</th>\n",
       "      <th>year</th>\n",
       "      <th>month</th>\n",
       "      <th>day</th>\n",
       "      <th>dep_time</th>\n",
       "      <th>sched_dep_time</th>\n",
       "      <th>dep_delay</th>\n",
       "      <th>arr_time</th>\n",
       "      <th>sched_arr_time</th>\n",
       "      <th>arr_delay</th>\n",
       "      <th>carrier</th>\n",
       "      <th>flight</th>\n",
       "      <th>tailnum</th>\n",
       "      <th>origin</th>\n",
       "      <th>dest</th>\n",
       "      <th>air_time</th>\n",
       "      <th>distance</th>\n",
       "      <th>hour</th>\n",
       "      <th>minute</th>\n",
       "      <th>time_hour</th>\n",
       "    </tr>\n",
       "  </thead>\n",
       "  <tbody>\n",
       "    <tr>\n",
       "      <th>7072</th>\n",
       "      <td>7073</td>\n",
       "      <td>2013</td>\n",
       "      <td>1</td>\n",
       "      <td>9</td>\n",
       "      <td>641.0</td>\n",
       "      <td>900</td>\n",
       "      <td>1301.0</td>\n",
       "      <td>1242.0</td>\n",
       "      <td>1530</td>\n",
       "      <td>1272.0</td>\n",
       "      <td>HA</td>\n",
       "      <td>51</td>\n",
       "      <td>N384HA</td>\n",
       "      <td>JFK</td>\n",
       "      <td>HNL</td>\n",
       "      <td>640.0</td>\n",
       "      <td>4983</td>\n",
       "      <td>9</td>\n",
       "      <td>0</td>\n",
       "      <td>2013-01-09 09:00:00</td>\n",
       "    </tr>\n",
       "  </tbody>\n",
       "</table>\n",
       "</div>"
      ],
      "text/plain": [
       "      Unnamed: 0  year  month  day  dep_time  sched_dep_time  dep_delay  \\\n",
       "7072        7073  2013      1    9     641.0             900     1301.0   \n",
       "\n",
       "      arr_time  sched_arr_time  arr_delay carrier  flight tailnum origin dest  \\\n",
       "7072    1242.0            1530     1272.0      HA      51  N384HA    JFK  HNL   \n",
       "\n",
       "      air_time  distance  hour  minute            time_hour  \n",
       "7072     640.0      4983     9       0  2013-01-09 09:00:00  "
      ]
     },
     "execution_count": 12,
     "metadata": {},
     "output_type": "execute_result"
    }
   ],
   "source": [
    "# Solution\n",
    "df.sort_values(by=\"arr_delay\", ascending=False).head(1)"
   ]
  },
  {
   "cell_type": "markdown",
   "metadata": {},
   "source": [
    "7. Find the top 5 flights that left earliest relative to their scheduled departure. Only show the tail number, date and number of minutes early they departed at."
   ]
  },
  {
   "cell_type": "code",
   "execution_count": 6,
   "metadata": {},
   "outputs": [
    {
     "data": {
      "text/html": [
       "<div>\n",
       "<style scoped>\n",
       "    .dataframe tbody tr th:only-of-type {\n",
       "        vertical-align: middle;\n",
       "    }\n",
       "\n",
       "    .dataframe tbody tr th {\n",
       "        vertical-align: top;\n",
       "    }\n",
       "\n",
       "    .dataframe thead th {\n",
       "        text-align: right;\n",
       "    }\n",
       "</style>\n",
       "<table border=\"1\" class=\"dataframe\">\n",
       "  <thead>\n",
       "    <tr style=\"text-align: right;\">\n",
       "      <th></th>\n",
       "      <th>tailnum</th>\n",
       "      <th>time_hour</th>\n",
       "      <th>dep_delay</th>\n",
       "    </tr>\n",
       "  </thead>\n",
       "  <tbody>\n",
       "    <tr>\n",
       "      <th>89673</th>\n",
       "      <td>N592JB</td>\n",
       "      <td>2013-12-07 21:00:00</td>\n",
       "      <td>-43.0</td>\n",
       "    </tr>\n",
       "    <tr>\n",
       "      <th>113633</th>\n",
       "      <td>N612DL</td>\n",
       "      <td>2013-02-03 20:00:00</td>\n",
       "      <td>-33.0</td>\n",
       "    </tr>\n",
       "    <tr>\n",
       "      <th>64501</th>\n",
       "      <td>N825AS</td>\n",
       "      <td>2013-11-10 14:00:00</td>\n",
       "      <td>-32.0</td>\n",
       "    </tr>\n",
       "    <tr>\n",
       "      <th>9619</th>\n",
       "      <td>N934DL</td>\n",
       "      <td>2013-01-11 19:00:00</td>\n",
       "      <td>-30.0</td>\n",
       "    </tr>\n",
       "    <tr>\n",
       "      <th>24915</th>\n",
       "      <td>N208FR</td>\n",
       "      <td>2013-01-29 17:00:00</td>\n",
       "      <td>-27.0</td>\n",
       "    </tr>\n",
       "  </tbody>\n",
       "</table>\n",
       "</div>"
      ],
      "text/plain": [
       "       tailnum            time_hour  dep_delay\n",
       "89673   N592JB  2013-12-07 21:00:00      -43.0\n",
       "113633  N612DL  2013-02-03 20:00:00      -33.0\n",
       "64501   N825AS  2013-11-10 14:00:00      -32.0\n",
       "9619    N934DL  2013-01-11 19:00:00      -30.0\n",
       "24915   N208FR  2013-01-29 17:00:00      -27.0"
      ]
     },
     "execution_count": 6,
     "metadata": {},
     "output_type": "execute_result"
    }
   ],
   "source": [
    "# Solution\n",
    "df[[\"tailnum\",\"time_hour\",\"dep_delay\"]].sort_values(by=\"dep_delay\").head(5)"
   ]
  },
  {
   "cell_type": "markdown",
   "metadata": {},
   "source": [
    "8. How could you sort all missing values to the start? "
   ]
  },
  {
   "cell_type": "code",
   "execution_count": 7,
   "metadata": {},
   "outputs": [
    {
     "data": {
      "text/html": [
       "<div>\n",
       "<style scoped>\n",
       "    .dataframe tbody tr th:only-of-type {\n",
       "        vertical-align: middle;\n",
       "    }\n",
       "\n",
       "    .dataframe tbody tr th {\n",
       "        vertical-align: top;\n",
       "    }\n",
       "\n",
       "    .dataframe thead th {\n",
       "        text-align: right;\n",
       "    }\n",
       "</style>\n",
       "<table border=\"1\" class=\"dataframe\">\n",
       "  <thead>\n",
       "    <tr style=\"text-align: right;\">\n",
       "      <th></th>\n",
       "      <th>tailnum</th>\n",
       "      <th>time_hour</th>\n",
       "      <th>dep_delay</th>\n",
       "    </tr>\n",
       "  </thead>\n",
       "  <tbody>\n",
       "    <tr>\n",
       "      <th>838</th>\n",
       "      <td>N18120</td>\n",
       "      <td>2013-01-01 16:00:00</td>\n",
       "      <td>NaN</td>\n",
       "    </tr>\n",
       "    <tr>\n",
       "      <th>839</th>\n",
       "      <td>N3EHAA</td>\n",
       "      <td>2013-01-01 19:00:00</td>\n",
       "      <td>NaN</td>\n",
       "    </tr>\n",
       "    <tr>\n",
       "      <th>840</th>\n",
       "      <td>N3EVAA</td>\n",
       "      <td>2013-01-01 15:00:00</td>\n",
       "      <td>NaN</td>\n",
       "    </tr>\n",
       "    <tr>\n",
       "      <th>841</th>\n",
       "      <td>N618JB</td>\n",
       "      <td>2013-01-01 06:00:00</td>\n",
       "      <td>NaN</td>\n",
       "    </tr>\n",
       "    <tr>\n",
       "      <th>1777</th>\n",
       "      <td>N10575</td>\n",
       "      <td>2013-01-02 15:00:00</td>\n",
       "      <td>NaN</td>\n",
       "    </tr>\n",
       "    <tr>\n",
       "      <th>...</th>\n",
       "      <td>...</td>\n",
       "      <td>...</td>\n",
       "      <td>...</td>\n",
       "    </tr>\n",
       "    <tr>\n",
       "      <th>270376</th>\n",
       "      <td>N665MQ</td>\n",
       "      <td>2013-07-22 16:00:00</td>\n",
       "      <td>1005.0</td>\n",
       "    </tr>\n",
       "    <tr>\n",
       "      <th>327043</th>\n",
       "      <td>N338AA</td>\n",
       "      <td>2013-09-20 18:00:00</td>\n",
       "      <td>1014.0</td>\n",
       "    </tr>\n",
       "    <tr>\n",
       "      <th>8239</th>\n",
       "      <td>N517MQ</td>\n",
       "      <td>2013-01-10 16:00:00</td>\n",
       "      <td>1126.0</td>\n",
       "    </tr>\n",
       "    <tr>\n",
       "      <th>235778</th>\n",
       "      <td>N504MQ</td>\n",
       "      <td>2013-06-15 19:00:00</td>\n",
       "      <td>1137.0</td>\n",
       "    </tr>\n",
       "    <tr>\n",
       "      <th>7072</th>\n",
       "      <td>N384HA</td>\n",
       "      <td>2013-01-09 09:00:00</td>\n",
       "      <td>1301.0</td>\n",
       "    </tr>\n",
       "  </tbody>\n",
       "</table>\n",
       "<p>336776 rows × 3 columns</p>\n",
       "</div>"
      ],
      "text/plain": [
       "       tailnum            time_hour  dep_delay\n",
       "838     N18120  2013-01-01 16:00:00        NaN\n",
       "839     N3EHAA  2013-01-01 19:00:00        NaN\n",
       "840     N3EVAA  2013-01-01 15:00:00        NaN\n",
       "841     N618JB  2013-01-01 06:00:00        NaN\n",
       "1777    N10575  2013-01-02 15:00:00        NaN\n",
       "...        ...                  ...        ...\n",
       "270376  N665MQ  2013-07-22 16:00:00     1005.0\n",
       "327043  N338AA  2013-09-20 18:00:00     1014.0\n",
       "8239    N517MQ  2013-01-10 16:00:00     1126.0\n",
       "235778  N504MQ  2013-06-15 19:00:00     1137.0\n",
       "7072    N384HA  2013-01-09 09:00:00     1301.0\n",
       "\n",
       "[336776 rows x 3 columns]"
      ]
     },
     "execution_count": 7,
     "metadata": {},
     "output_type": "execute_result"
    }
   ],
   "source": [
    "# Solution: using na_position=\"first\"\n",
    "df[[\"tailnum\",\"time_hour\",\"dep_delay\"]].sort_values(by=\"dep_delay\", na_position=\"first\")"
   ]
  },
  {
   "cell_type": "markdown",
   "metadata": {},
   "source": [
    "## Add new variables "
   ]
  },
  {
   "cell_type": "markdown",
   "metadata": {},
   "source": [
    "9. Currently `dep_time` and `arr_time` are convenient to look at, but hard to compute with because they’re not really continuous numbers. Convert them to number of minutes since midnight in new vars called `arr_time_min` and `dep_time_min`"
   ]
  },
  {
   "cell_type": "code",
   "execution_count": 46,
   "metadata": {},
   "outputs": [
    {
     "data": {
      "text/html": [
       "<div>\n",
       "<style scoped>\n",
       "    .dataframe tbody tr th:only-of-type {\n",
       "        vertical-align: middle;\n",
       "    }\n",
       "\n",
       "    .dataframe tbody tr th {\n",
       "        vertical-align: top;\n",
       "    }\n",
       "\n",
       "    .dataframe thead th {\n",
       "        text-align: right;\n",
       "    }\n",
       "</style>\n",
       "<table border=\"1\" class=\"dataframe\">\n",
       "  <thead>\n",
       "    <tr style=\"text-align: right;\">\n",
       "      <th></th>\n",
       "      <th>dep_time_min</th>\n",
       "      <th>dep_time</th>\n",
       "      <th>arr_time_min</th>\n",
       "      <th>arr_time</th>\n",
       "    </tr>\n",
       "  </thead>\n",
       "  <tbody>\n",
       "    <tr>\n",
       "      <th>0</th>\n",
       "      <td>317.0</td>\n",
       "      <td>517.0</td>\n",
       "      <td>510.0</td>\n",
       "      <td>830.0</td>\n",
       "    </tr>\n",
       "    <tr>\n",
       "      <th>1</th>\n",
       "      <td>333.0</td>\n",
       "      <td>533.0</td>\n",
       "      <td>530.0</td>\n",
       "      <td>850.0</td>\n",
       "    </tr>\n",
       "    <tr>\n",
       "      <th>2</th>\n",
       "      <td>342.0</td>\n",
       "      <td>542.0</td>\n",
       "      <td>563.0</td>\n",
       "      <td>923.0</td>\n",
       "    </tr>\n",
       "    <tr>\n",
       "      <th>3</th>\n",
       "      <td>344.0</td>\n",
       "      <td>544.0</td>\n",
       "      <td>604.0</td>\n",
       "      <td>1004.0</td>\n",
       "    </tr>\n",
       "    <tr>\n",
       "      <th>4</th>\n",
       "      <td>354.0</td>\n",
       "      <td>554.0</td>\n",
       "      <td>492.0</td>\n",
       "      <td>812.0</td>\n",
       "    </tr>\n",
       "    <tr>\n",
       "      <th>...</th>\n",
       "      <td>...</td>\n",
       "      <td>...</td>\n",
       "      <td>...</td>\n",
       "      <td>...</td>\n",
       "    </tr>\n",
       "    <tr>\n",
       "      <th>336771</th>\n",
       "      <td>NaN</td>\n",
       "      <td>NaN</td>\n",
       "      <td>NaN</td>\n",
       "      <td>NaN</td>\n",
       "    </tr>\n",
       "    <tr>\n",
       "      <th>336772</th>\n",
       "      <td>NaN</td>\n",
       "      <td>NaN</td>\n",
       "      <td>NaN</td>\n",
       "      <td>NaN</td>\n",
       "    </tr>\n",
       "    <tr>\n",
       "      <th>336773</th>\n",
       "      <td>NaN</td>\n",
       "      <td>NaN</td>\n",
       "      <td>NaN</td>\n",
       "      <td>NaN</td>\n",
       "    </tr>\n",
       "    <tr>\n",
       "      <th>336774</th>\n",
       "      <td>NaN</td>\n",
       "      <td>NaN</td>\n",
       "      <td>NaN</td>\n",
       "      <td>NaN</td>\n",
       "    </tr>\n",
       "    <tr>\n",
       "      <th>336775</th>\n",
       "      <td>NaN</td>\n",
       "      <td>NaN</td>\n",
       "      <td>NaN</td>\n",
       "      <td>NaN</td>\n",
       "    </tr>\n",
       "  </tbody>\n",
       "</table>\n",
       "<p>336776 rows × 4 columns</p>\n",
       "</div>"
      ],
      "text/plain": [
       "        dep_time_min  dep_time  arr_time_min  arr_time\n",
       "0              317.0     517.0         510.0     830.0\n",
       "1              333.0     533.0         530.0     850.0\n",
       "2              342.0     542.0         563.0     923.0\n",
       "3              344.0     544.0         604.0    1004.0\n",
       "4              354.0     554.0         492.0     812.0\n",
       "...              ...       ...           ...       ...\n",
       "336771           NaN       NaN           NaN       NaN\n",
       "336772           NaN       NaN           NaN       NaN\n",
       "336773           NaN       NaN           NaN       NaN\n",
       "336774           NaN       NaN           NaN       NaN\n",
       "336775           NaN       NaN           NaN       NaN\n",
       "\n",
       "[336776 rows x 4 columns]"
      ]
     },
     "execution_count": 46,
     "metadata": {},
     "output_type": "execute_result"
    }
   ],
   "source": [
    "# Solution\n",
    "#dep_time and arr_time are coded in say that 544 mean 5:44am. So, the whole part of dividing the variables by 100 is\n",
    "#the number of hourse, and the residual is the number of minutes.\n",
    "\n",
    "df[\"dep_time_min\"] = (df.dep_time//100)*60 + df.dep_time%100\n",
    "df[\"arr_time_min\"] = (df.arr_time//100)*60 + df.arr_time%100\n",
    "\n",
    "df[[\"dep_time_min\",\"dep_time\",\"arr_time_min\",\"arr_time\"]]"
   ]
  },
  {
   "cell_type": "markdown",
   "metadata": {},
   "source": [
    "10. Make a plot to compare `air_time` with `arr_time_min` - `dep_time_min`"
   ]
  },
  {
   "cell_type": "code",
   "execution_count": 70,
   "metadata": {},
   "outputs": [],
   "source": [
    "# Solution\n",
    "import matplotlib.pyplot as plt"
   ]
  },
  {
   "cell_type": "code",
   "execution_count": 71,
   "metadata": {},
   "outputs": [
    {
     "data": {
      "text/plain": [
       "<matplotlib.collections.PathCollection at 0x1d980543a90>"
      ]
     },
     "execution_count": 71,
     "metadata": {},
     "output_type": "execute_result"
    },
    {
     "data": {
      "image/png": "[encoded data removed]",
      "text/plain": [
       "<Figure size 640x480 with 1 Axes>"
      ]
     },
     "metadata": {},
     "output_type": "display_data"
    }
   ],
   "source": [
    "df[\"time_dif_min\"] = df.arr_time_min - df.dep_time_min\n",
    "plt.scatter(df.air_time,df.time_dif_min)"
   ]
  },
  {
   "cell_type": "markdown",
   "metadata": {},
   "source": [
    "11. We expect `air_time` and `arr_time_min` - `dep_time_min` to be the same, but they’re not. Why not?\n",
    "Identify a major data issue and subtle one."
   ]
  },
  {
   "cell_type": "code",
   "execution_count": 17,
   "metadata": {},
   "outputs": [],
   "source": [
    "# Solution\n",
    "#Two possible explanations:\n",
    "#a: departure and arrival times may be recorded in different timezones\n",
    "#b: MAYOR: if a flight takes off in one day and lands the day after, arr_time_min - dep_time_min\n",
    "#stops representing the number of minutes the flight took."
   ]
  },
  {
   "cell_type": "markdown",
   "metadata": {},
   "source": [
    "12. Implement your fix to the major probelm. Remake the plot from the previous question."
   ]
  },
  {
   "cell_type": "code",
   "execution_count": 8,
   "metadata": {},
   "outputs": [
    {
     "ename": "AttributeError",
     "evalue": "'DataFrame' object has no attribute 'arr_time_min'",
     "output_type": "error",
     "traceback": [
      "\u001b[0;31m---------------------------------------------------------------------------\u001b[0m",
      "\u001b[0;31mAttributeError\u001b[0m                            Traceback (most recent call last)",
      "\u001b[0;32m/var/folders/v3/40svjrx14hq103xfyw7qhzsh0000gn/T/ipykernel_6194/1856887469.py\u001b[0m in \u001b[0;36m?\u001b[0;34m()\u001b[0m\n\u001b[0;32m----> 1\u001b[0;31m \u001b[0mdf\u001b[0m\u001b[0;34m.\u001b[0m\u001b[0marr_time_min\u001b[0m\u001b[0;34m+\u001b[0m\u001b[0;36m1440\u001b[0m\u001b[0;34m\u001b[0m\u001b[0;34m\u001b[0m\u001b[0m\n\u001b[0m",
      "\u001b[0;32m~/miniconda3/lib/python3.11/site-packages/pandas/core/generic.py\u001b[0m in \u001b[0;36m?\u001b[0;34m(self, name)\u001b[0m\n\u001b[1;32m   6200\u001b[0m             \u001b[0;32mand\u001b[0m \u001b[0mname\u001b[0m \u001b[0;32mnot\u001b[0m \u001b[0;32min\u001b[0m \u001b[0mself\u001b[0m\u001b[0;34m.\u001b[0m\u001b[0m_accessors\u001b[0m\u001b[0;34m\u001b[0m\u001b[0;34m\u001b[0m\u001b[0m\n\u001b[1;32m   6201\u001b[0m             \u001b[0;32mand\u001b[0m \u001b[0mself\u001b[0m\u001b[0;34m.\u001b[0m\u001b[0m_info_axis\u001b[0m\u001b[0;34m.\u001b[0m\u001b[0m_can_hold_identifiers_and_holds_name\u001b[0m\u001b[0;34m(\u001b[0m\u001b[0mname\u001b[0m\u001b[0;34m)\u001b[0m\u001b[0;34m\u001b[0m\u001b[0;34m\u001b[0m\u001b[0m\n\u001b[1;32m   6202\u001b[0m         ):\n\u001b[1;32m   6203\u001b[0m             \u001b[0;32mreturn\u001b[0m \u001b[0mself\u001b[0m\u001b[0;34m[\u001b[0m\u001b[0mname\u001b[0m\u001b[0;34m]\u001b[0m\u001b[0;34m\u001b[0m\u001b[0;34m\u001b[0m\u001b[0m\n\u001b[0;32m-> 6204\u001b[0;31m         \u001b[0;32mreturn\u001b[0m \u001b[0mobject\u001b[0m\u001b[0;34m.\u001b[0m\u001b[0m__getattribute__\u001b[0m\u001b[0;34m(\u001b[0m\u001b[0mself\u001b[0m\u001b[0;34m,\u001b[0m \u001b[0mname\u001b[0m\u001b[0;34m)\u001b[0m\u001b[0;34m\u001b[0m\u001b[0;34m\u001b[0m\u001b[0m\n\u001b[0m",
      "\u001b[0;31mAttributeError\u001b[0m: 'DataFrame' object has no attribute 'arr_time_min'"
     ]
    }
   ],
   "source": [
    "df.arr_time_min+1440"
   ]
  },
  {
   "cell_type": "code",
   "execution_count": 73,
   "metadata": {},
   "outputs": [
    {
     "name": "stderr",
     "output_type": "stream",
     "text": [
      "C:\\Users\\USUARIO\\AppData\\Local\\Temp\\ipykernel_18244\\427670832.py:2: SettingWithCopyWarning: \n",
      "A value is trying to be set on a copy of a slice from a DataFrame\n",
      "\n",
      "See the caveats in the documentation: https://pandas.pydata.org/pandas-docs/stable/user_guide/indexing.html#returning-a-view-versus-a-copy\n",
      "  df[\"time_dif_min\"][df.time_dif_min<0] = (df.arr_time_min+1440) - (df.dep_time_min)\n"
     ]
    },
    {
     "data": {
      "text/plain": [
       "<matplotlib.collections.PathCollection at 0x1d9805c5690>"
      ]
     },
     "execution_count": 73,
     "metadata": {},
     "output_type": "execute_result"
    },
    {
     "data": {
      "image/png": "[encoded data removed]",
      "text/plain": [
       "<Figure size 640x480 with 1 Axes>"
      ]
     },
     "metadata": {},
     "output_type": "display_data"
    }
   ],
   "source": [
    "# Solution\n",
    "df[\"time_dif_min\"][df.time_dif_min<0] = (df.arr_time_min+1440) - (df.dep_time_min) #we add 1440 min to the arr time if the differnece between both values is negative, meaning the day has changed\n",
    "plt.scatter(df.air_time,df.time_dif_min)"
   ]
  },
  {
   "cell_type": "markdown",
   "metadata": {},
   "source": [
    "13. Find the 10 most delayed flights "
   ]
  },
  {
   "cell_type": "code",
   "execution_count": 77,
   "metadata": {},
   "outputs": [
    {
     "data": {
      "text/html": [
       "<div>\n",
       "<style scoped>\n",
       "    .dataframe tbody tr th:only-of-type {\n",
       "        vertical-align: middle;\n",
       "    }\n",
       "\n",
       "    .dataframe tbody tr th {\n",
       "        vertical-align: top;\n",
       "    }\n",
       "\n",
       "    .dataframe thead th {\n",
       "        text-align: right;\n",
       "    }\n",
       "</style>\n",
       "<table border=\"1\" class=\"dataframe\">\n",
       "  <thead>\n",
       "    <tr style=\"text-align: right;\">\n",
       "      <th></th>\n",
       "      <th>Unnamed: 0</th>\n",
       "      <th>year</th>\n",
       "      <th>month</th>\n",
       "      <th>day</th>\n",
       "      <th>dep_time</th>\n",
       "      <th>sched_dep_time</th>\n",
       "      <th>dep_delay</th>\n",
       "      <th>arr_time</th>\n",
       "      <th>sched_arr_time</th>\n",
       "      <th>arr_delay</th>\n",
       "      <th>...</th>\n",
       "      <th>origin</th>\n",
       "      <th>dest</th>\n",
       "      <th>air_time</th>\n",
       "      <th>distance</th>\n",
       "      <th>hour</th>\n",
       "      <th>minute</th>\n",
       "      <th>time_hour</th>\n",
       "      <th>dep_time_min</th>\n",
       "      <th>arr_time_min</th>\n",
       "      <th>time_dif_min</th>\n",
       "    </tr>\n",
       "  </thead>\n",
       "  <tbody>\n",
       "    <tr>\n",
       "      <th>7072</th>\n",
       "      <td>7073</td>\n",
       "      <td>2013</td>\n",
       "      <td>1</td>\n",
       "      <td>9</td>\n",
       "      <td>641.0</td>\n",
       "      <td>900</td>\n",
       "      <td>1301.0</td>\n",
       "      <td>1242.0</td>\n",
       "      <td>1530</td>\n",
       "      <td>1272.0</td>\n",
       "      <td>...</td>\n",
       "      <td>JFK</td>\n",
       "      <td>HNL</td>\n",
       "      <td>640.0</td>\n",
       "      <td>4983</td>\n",
       "      <td>9</td>\n",
       "      <td>0</td>\n",
       "      <td>2013-01-09 09:00:00</td>\n",
       "      <td>401.0</td>\n",
       "      <td>762.0</td>\n",
       "      <td>361.0</td>\n",
       "    </tr>\n",
       "    <tr>\n",
       "      <th>235778</th>\n",
       "      <td>235779</td>\n",
       "      <td>2013</td>\n",
       "      <td>6</td>\n",
       "      <td>15</td>\n",
       "      <td>1432.0</td>\n",
       "      <td>1935</td>\n",
       "      <td>1137.0</td>\n",
       "      <td>1607.0</td>\n",
       "      <td>2120</td>\n",
       "      <td>1127.0</td>\n",
       "      <td>...</td>\n",
       "      <td>JFK</td>\n",
       "      <td>CMH</td>\n",
       "      <td>74.0</td>\n",
       "      <td>483</td>\n",
       "      <td>19</td>\n",
       "      <td>35</td>\n",
       "      <td>2013-06-15 19:00:00</td>\n",
       "      <td>872.0</td>\n",
       "      <td>967.0</td>\n",
       "      <td>95.0</td>\n",
       "    </tr>\n",
       "    <tr>\n",
       "      <th>8239</th>\n",
       "      <td>8240</td>\n",
       "      <td>2013</td>\n",
       "      <td>1</td>\n",
       "      <td>10</td>\n",
       "      <td>1121.0</td>\n",
       "      <td>1635</td>\n",
       "      <td>1126.0</td>\n",
       "      <td>1239.0</td>\n",
       "      <td>1810</td>\n",
       "      <td>1109.0</td>\n",
       "      <td>...</td>\n",
       "      <td>EWR</td>\n",
       "      <td>ORD</td>\n",
       "      <td>111.0</td>\n",
       "      <td>719</td>\n",
       "      <td>16</td>\n",
       "      <td>35</td>\n",
       "      <td>2013-01-10 16:00:00</td>\n",
       "      <td>681.0</td>\n",
       "      <td>759.0</td>\n",
       "      <td>78.0</td>\n",
       "    </tr>\n",
       "    <tr>\n",
       "      <th>327043</th>\n",
       "      <td>327044</td>\n",
       "      <td>2013</td>\n",
       "      <td>9</td>\n",
       "      <td>20</td>\n",
       "      <td>1139.0</td>\n",
       "      <td>1845</td>\n",
       "      <td>1014.0</td>\n",
       "      <td>1457.0</td>\n",
       "      <td>2210</td>\n",
       "      <td>1007.0</td>\n",
       "      <td>...</td>\n",
       "      <td>JFK</td>\n",
       "      <td>SFO</td>\n",
       "      <td>354.0</td>\n",
       "      <td>2586</td>\n",
       "      <td>18</td>\n",
       "      <td>45</td>\n",
       "      <td>2013-09-20 18:00:00</td>\n",
       "      <td>699.0</td>\n",
       "      <td>897.0</td>\n",
       "      <td>198.0</td>\n",
       "    </tr>\n",
       "    <tr>\n",
       "      <th>270376</th>\n",
       "      <td>270377</td>\n",
       "      <td>2013</td>\n",
       "      <td>7</td>\n",
       "      <td>22</td>\n",
       "      <td>845.0</td>\n",
       "      <td>1600</td>\n",
       "      <td>1005.0</td>\n",
       "      <td>1044.0</td>\n",
       "      <td>1815</td>\n",
       "      <td>989.0</td>\n",
       "      <td>...</td>\n",
       "      <td>JFK</td>\n",
       "      <td>CVG</td>\n",
       "      <td>96.0</td>\n",
       "      <td>589</td>\n",
       "      <td>16</td>\n",
       "      <td>0</td>\n",
       "      <td>2013-07-22 16:00:00</td>\n",
       "      <td>525.0</td>\n",
       "      <td>644.0</td>\n",
       "      <td>119.0</td>\n",
       "    </tr>\n",
       "    <tr>\n",
       "      <th>173992</th>\n",
       "      <td>173993</td>\n",
       "      <td>2013</td>\n",
       "      <td>4</td>\n",
       "      <td>10</td>\n",
       "      <td>1100.0</td>\n",
       "      <td>1900</td>\n",
       "      <td>960.0</td>\n",
       "      <td>1342.0</td>\n",
       "      <td>2211</td>\n",
       "      <td>931.0</td>\n",
       "      <td>...</td>\n",
       "      <td>JFK</td>\n",
       "      <td>TPA</td>\n",
       "      <td>139.0</td>\n",
       "      <td>1005</td>\n",
       "      <td>19</td>\n",
       "      <td>0</td>\n",
       "      <td>2013-04-10 19:00:00</td>\n",
       "      <td>660.0</td>\n",
       "      <td>822.0</td>\n",
       "      <td>162.0</td>\n",
       "    </tr>\n",
       "    <tr>\n",
       "      <th>151974</th>\n",
       "      <td>151975</td>\n",
       "      <td>2013</td>\n",
       "      <td>3</td>\n",
       "      <td>17</td>\n",
       "      <td>2321.0</td>\n",
       "      <td>810</td>\n",
       "      <td>911.0</td>\n",
       "      <td>135.0</td>\n",
       "      <td>1020</td>\n",
       "      <td>915.0</td>\n",
       "      <td>...</td>\n",
       "      <td>LGA</td>\n",
       "      <td>MSP</td>\n",
       "      <td>167.0</td>\n",
       "      <td>1020</td>\n",
       "      <td>8</td>\n",
       "      <td>10</td>\n",
       "      <td>2013-03-17 08:00:00</td>\n",
       "      <td>1401.0</td>\n",
       "      <td>95.0</td>\n",
       "      <td>134.0</td>\n",
       "    </tr>\n",
       "    <tr>\n",
       "      <th>247040</th>\n",
       "      <td>247041</td>\n",
       "      <td>2013</td>\n",
       "      <td>6</td>\n",
       "      <td>27</td>\n",
       "      <td>959.0</td>\n",
       "      <td>1900</td>\n",
       "      <td>899.0</td>\n",
       "      <td>1236.0</td>\n",
       "      <td>2226</td>\n",
       "      <td>850.0</td>\n",
       "      <td>...</td>\n",
       "      <td>JFK</td>\n",
       "      <td>PDX</td>\n",
       "      <td>313.0</td>\n",
       "      <td>2454</td>\n",
       "      <td>19</td>\n",
       "      <td>0</td>\n",
       "      <td>2013-06-27 19:00:00</td>\n",
       "      <td>599.0</td>\n",
       "      <td>756.0</td>\n",
       "      <td>157.0</td>\n",
       "    </tr>\n",
       "    <tr>\n",
       "      <th>270987</th>\n",
       "      <td>270988</td>\n",
       "      <td>2013</td>\n",
       "      <td>7</td>\n",
       "      <td>22</td>\n",
       "      <td>2257.0</td>\n",
       "      <td>759</td>\n",
       "      <td>898.0</td>\n",
       "      <td>121.0</td>\n",
       "      <td>1026</td>\n",
       "      <td>895.0</td>\n",
       "      <td>...</td>\n",
       "      <td>LGA</td>\n",
       "      <td>ATL</td>\n",
       "      <td>109.0</td>\n",
       "      <td>762</td>\n",
       "      <td>7</td>\n",
       "      <td>59</td>\n",
       "      <td>2013-07-22 07:00:00</td>\n",
       "      <td>1377.0</td>\n",
       "      <td>81.0</td>\n",
       "      <td>144.0</td>\n",
       "    </tr>\n",
       "    <tr>\n",
       "      <th>87238</th>\n",
       "      <td>87239</td>\n",
       "      <td>2013</td>\n",
       "      <td>12</td>\n",
       "      <td>5</td>\n",
       "      <td>756.0</td>\n",
       "      <td>1700</td>\n",
       "      <td>896.0</td>\n",
       "      <td>1058.0</td>\n",
       "      <td>2020</td>\n",
       "      <td>878.0</td>\n",
       "      <td>...</td>\n",
       "      <td>EWR</td>\n",
       "      <td>MIA</td>\n",
       "      <td>149.0</td>\n",
       "      <td>1085</td>\n",
       "      <td>17</td>\n",
       "      <td>0</td>\n",
       "      <td>2013-12-05 17:00:00</td>\n",
       "      <td>476.0</td>\n",
       "      <td>658.0</td>\n",
       "      <td>182.0</td>\n",
       "    </tr>\n",
       "  </tbody>\n",
       "</table>\n",
       "<p>10 rows × 23 columns</p>\n",
       "</div>"
      ],
      "text/plain": [
       "        Unnamed: 0  year  month  day  dep_time  sched_dep_time  dep_delay  \\\n",
       "7072          7073  2013      1    9     641.0             900     1301.0   \n",
       "235778      235779  2013      6   15    1432.0            1935     1137.0   \n",
       "8239          8240  2013      1   10    1121.0            1635     1126.0   \n",
       "327043      327044  2013      9   20    1139.0            1845     1014.0   \n",
       "270376      270377  2013      7   22     845.0            1600     1005.0   \n",
       "173992      173993  2013      4   10    1100.0            1900      960.0   \n",
       "151974      151975  2013      3   17    2321.0             810      911.0   \n",
       "247040      247041  2013      6   27     959.0            1900      899.0   \n",
       "270987      270988  2013      7   22    2257.0             759      898.0   \n",
       "87238        87239  2013     12    5     756.0            1700      896.0   \n",
       "\n",
       "        arr_time  sched_arr_time  arr_delay  ... origin  dest air_time  \\\n",
       "7072      1242.0            1530     1272.0  ...    JFK   HNL    640.0   \n",
       "235778    1607.0            2120     1127.0  ...    JFK   CMH     74.0   \n",
       "8239      1239.0            1810     1109.0  ...    EWR   ORD    111.0   \n",
       "327043    1457.0            2210     1007.0  ...    JFK   SFO    354.0   \n",
       "270376    1044.0            1815      989.0  ...    JFK   CVG     96.0   \n",
       "173992    1342.0            2211      931.0  ...    JFK   TPA    139.0   \n",
       "151974     135.0            1020      915.0  ...    LGA   MSP    167.0   \n",
       "247040    1236.0            2226      850.0  ...    JFK   PDX    313.0   \n",
       "270987     121.0            1026      895.0  ...    LGA   ATL    109.0   \n",
       "87238     1058.0            2020      878.0  ...    EWR   MIA    149.0   \n",
       "\n",
       "       distance hour  minute            time_hour  dep_time_min  arr_time_min  \\\n",
       "7072       4983    9       0  2013-01-09 09:00:00         401.0         762.0   \n",
       "235778      483   19      35  2013-06-15 19:00:00         872.0         967.0   \n",
       "8239        719   16      35  2013-01-10 16:00:00         681.0         759.0   \n",
       "327043     2586   18      45  2013-09-20 18:00:00         699.0         897.0   \n",
       "270376      589   16       0  2013-07-22 16:00:00         525.0         644.0   \n",
       "173992     1005   19       0  2013-04-10 19:00:00         660.0         822.0   \n",
       "151974     1020    8      10  2013-03-17 08:00:00        1401.0          95.0   \n",
       "247040     2454   19       0  2013-06-27 19:00:00         599.0         756.0   \n",
       "270987      762    7      59  2013-07-22 07:00:00        1377.0          81.0   \n",
       "87238      1085   17       0  2013-12-05 17:00:00         476.0         658.0   \n",
       "\n",
       "       time_dif_min  \n",
       "7072          361.0  \n",
       "235778         95.0  \n",
       "8239           78.0  \n",
       "327043        198.0  \n",
       "270376        119.0  \n",
       "173992        162.0  \n",
       "151974        134.0  \n",
       "247040        157.0  \n",
       "270987        144.0  \n",
       "87238         182.0  \n",
       "\n",
       "[10 rows x 23 columns]"
      ]
     },
     "execution_count": 77,
     "metadata": {},
     "output_type": "execute_result"
    }
   ],
   "source": [
    "# Solution\n",
    "df.sort_values(by=\"dep_delay\", ascending=False).head(10)"
   ]
  },
  {
   "cell_type": "markdown",
   "metadata": {},
   "source": [
    "## Summarizing grouped data"
   ]
  },
  {
   "cell_type": "markdown",
   "metadata": {},
   "source": [
    "14. Calculate average delays by destination for flights originating in NYC. Create a variable which ranks destinations from worst to best, where 1 is the worst rank."
   ]
  },
  {
   "cell_type": "code",
   "execution_count": 20,
   "metadata": {},
   "outputs": [],
   "source": [
    "# Solution"
   ]
  },
  {
   "cell_type": "markdown",
   "metadata": {},
   "source": [
    "15. Which plane (`tailnum`) has the most minutes of delays total?"
   ]
  },
  {
   "cell_type": "code",
   "execution_count": 21,
   "metadata": {},
   "outputs": [],
   "source": [
    "# Solution"
   ]
  },
  {
   "cell_type": "markdown",
   "metadata": {},
   "source": [
    "16. Which airlines only offer flights from New York to one other airport?"
   ]
  },
  {
   "cell_type": "code",
   "execution_count": 22,
   "metadata": {},
   "outputs": [],
   "source": [
    "# Solution"
   ]
  },
  {
   "cell_type": "markdown",
   "metadata": {},
   "source": [
    "17. Calculate the median arrival delay by airline."
   ]
  },
  {
   "cell_type": "code",
   "execution_count": 23,
   "metadata": {},
   "outputs": [],
   "source": [
    "# Solution"
   ]
  },
  {
   "cell_type": "markdown",
   "metadata": {},
   "source": [
    "18. ExpressJet has a median arrival delay of -1 minutes while US Airways has a median arrival delay of -6 minutes. Does this tell you that US Airways is a more reliable airline? Why or why not?\n"
   ]
  },
  {
   "cell_type": "code",
   "execution_count": 24,
   "metadata": {},
   "outputs": [],
   "source": [
    "# Solution"
   ]
  },
  {
   "cell_type": "markdown",
   "metadata": {},
   "source": [
    "19. Median arrival delay may not be the best metric for our needs. Brainstorm at least 4 additional ways to assess the typical delay characteristics of a group of flights."
   ]
  },
  {
   "cell_type": "code",
   "execution_count": 25,
   "metadata": {},
   "outputs": [],
   "source": [
    "# Solution"
   ]
  },
  {
   "cell_type": "markdown",
   "metadata": {},
   "source": [
    "20. Write a code which calculates your delay measures separately by airline. Do particular airlines perform poorly on multiple metrics?"
   ]
  },
  {
   "cell_type": "code",
   "execution_count": 26,
   "metadata": {},
   "outputs": [],
   "source": [
    "# Solution"
   ]
  },
  {
   "cell_type": "markdown",
   "metadata": {},
   "source": []
  }
 ],
 "metadata": {
  "hide_input": false,
  "kernelspec": {
   "display_name": "Python 3 (ipykernel)",
   "language": "python",
   "name": "python3"
  },
  "language_info": {
   "codemirror_mode": {
    "name": "ipython",
    "version": 3
   },
   "file_extension": ".py",
   "mimetype": "text/x-python",
   "name": "python",
   "nbconvert_exporter": "python",
   "pygments_lexer": "ipython3",
   "version": "3.11.7"
  },
  "toc": {
   "base_numbering": 1,
   "nav_menu": {},
   "number_sections": true,
   "sideBar": true,
   "skip_h1_title": false,
   "title_cell": "Table of Contents",
   "title_sidebar": "Contents",
   "toc_cell": false,
   "toc_position": {},
   "toc_section_display": true,
   "toc_window_display": false
  }
 },
 "nbformat": 4,
 "nbformat_minor": 4
}
